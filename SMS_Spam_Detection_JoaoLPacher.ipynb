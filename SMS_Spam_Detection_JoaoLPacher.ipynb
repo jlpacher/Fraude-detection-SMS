{
 "cells": [
  {
   "cell_type": "markdown",
   "metadata": {},
   "source": [
    "## <span style=\"color:blue\"> Business Problem: Classify SMS messages as “ok” or “blocked</span>\n",
    "**Author: João Luiz Pacher**<br>\n",
    "**2021, Feb 11st**"
   ]
  },
  {
   "cell_type": "code",
   "execution_count": 1,
   "metadata": {},
   "outputs": [],
   "source": [
    "# Importing the global required libraries\n",
    "import pandas as pd\n",
    "import numpy as np\n",
    "import seaborn as sns\n",
    "import matplotlib.pyplot as plt\n",
    "%matplotlib inline"
   ]
  },
  {
   "cell_type": "markdown",
   "metadata": {},
   "source": [
    "## Reading and looking at the data \n",
    "First of all let´s look at the data and explore the available information.   \n",
    "\n",
    "We have 2 datasets:  \n",
    "    \"train_data\" to train the model   \n",
    "    \"validation_data\" to apply the model and get the classification results\n",
    "\n",
    "As we will confirm in the nexts cells:   \n",
    "    \"train_data\" has 1 attribute SMS and 1 target with 6000 instances.   \n",
    "    All data are non-nulls and dtype is object.  "
   ]
  },
  {
   "cell_type": "markdown",
   "metadata": {},
   "source": [
    "### ... about train_data"
   ]
  },
  {
   "cell_type": "code",
   "execution_count": 2,
   "metadata": {},
   "outputs": [],
   "source": [
    "# Reading the dataset and assigning it to an object\n",
    "train_data = pd.read_csv('train_data.csv')"
   ]
  },
  {
   "cell_type": "code",
   "execution_count": 3,
   "metadata": {},
   "outputs": [
    {
     "data": {
      "text/html": [
       "<div>\n",
       "<style scoped>\n",
       "    .dataframe tbody tr th:only-of-type {\n",
       "        vertical-align: middle;\n",
       "    }\n",
       "\n",
       "    .dataframe tbody tr th {\n",
       "        vertical-align: top;\n",
       "    }\n",
       "\n",
       "    .dataframe thead th {\n",
       "        text-align: right;\n",
       "    }\n",
       "</style>\n",
       "<table border=\"1\" class=\"dataframe\">\n",
       "  <thead>\n",
       "    <tr style=\"text-align: right;\">\n",
       "      <th></th>\n",
       "      <th>SMS</th>\n",
       "      <th>LABEL</th>\n",
       "    </tr>\n",
       "  </thead>\n",
       "  <tbody>\n",
       "    <tr>\n",
       "      <th>0</th>\n",
       "      <td>BOLETO REFERENTE AS PARCELAS EM ATRASO DO CONS...</td>\n",
       "      <td>blocked</td>\n",
       "    </tr>\n",
       "    <tr>\n",
       "      <th>1</th>\n",
       "      <td>050003DA0202|lcloud-apple-lnc.com/?iphone=VtBq...</td>\n",
       "      <td>blocked</td>\n",
       "    </tr>\n",
       "    <tr>\n",
       "      <th>2</th>\n",
       "      <td>060804CB5F0303|ps: //bancodobrasil.seguranca.gq</td>\n",
       "      <td>blocked</td>\n",
       "    </tr>\n",
       "    <tr>\n",
       "      <th>3</th>\n",
       "      <td>Atualizacao ainda nao foi executado em sua con...</td>\n",
       "      <td>blocked</td>\n",
       "    </tr>\n",
       "    <tr>\n",
       "      <th>4</th>\n",
       "      <td>0608042BE40303|ps://bancodobrasil.seguranca.cf/</td>\n",
       "      <td>blocked</td>\n",
       "    </tr>\n",
       "    <tr>\n",
       "      <th>5</th>\n",
       "      <td>Apple informa, seu iPhone foi localizado e ent...</td>\n",
       "      <td>blocked</td>\n",
       "    </tr>\n",
       "    <tr>\n",
       "      <th>6</th>\n",
       "      <td>Apple Inc. Mobile Apple foi localizado ?s 23:5...</td>\n",
       "      <td>blocked</td>\n",
       "    </tr>\n",
       "    <tr>\n",
       "      <th>7</th>\n",
       "      <td>06080446A50403|rápido e seguro.\\r\\r\\nAcesse: h...</td>\n",
       "      <td>blocked</td>\n",
       "    </tr>\n",
       "    <tr>\n",
       "      <th>8</th>\n",
       "      <td>Seu Dispositivo IMEI 3533****4383, Cor BLACK, ...</td>\n",
       "      <td>blocked</td>\n",
       "    </tr>\n",
       "    <tr>\n",
       "      <th>9</th>\n",
       "      <td>060804C5130303|bloqueio agora.\\r\\r\\nAcesse: ht...</td>\n",
       "      <td>blocked</td>\n",
       "    </tr>\n",
       "  </tbody>\n",
       "</table>\n",
       "</div>"
      ],
      "text/plain": [
       "                                                 SMS    LABEL\n",
       "0  BOLETO REFERENTE AS PARCELAS EM ATRASO DO CONS...  blocked\n",
       "1  050003DA0202|lcloud-apple-lnc.com/?iphone=VtBq...  blocked\n",
       "2    060804CB5F0303|ps: //bancodobrasil.seguranca.gq  blocked\n",
       "3  Atualizacao ainda nao foi executado em sua con...  blocked\n",
       "4    0608042BE40303|ps://bancodobrasil.seguranca.cf/  blocked\n",
       "5  Apple informa, seu iPhone foi localizado e ent...  blocked\n",
       "6  Apple Inc. Mobile Apple foi localizado ?s 23:5...  blocked\n",
       "7  06080446A50403|rápido e seguro.\\r\\r\\nAcesse: h...  blocked\n",
       "8  Seu Dispositivo IMEI 3533****4383, Cor BLACK, ...  blocked\n",
       "9  060804C5130303|bloqueio agora.\\r\\r\\nAcesse: ht...  blocked"
      ]
     },
     "execution_count": 3,
     "metadata": {},
     "output_type": "execute_result"
    }
   ],
   "source": [
    "# Looking at firsts rows from dataframe train_data\n",
    "train_data.head(10)"
   ]
  },
  {
   "cell_type": "code",
   "execution_count": 4,
   "metadata": {},
   "outputs": [
    {
     "data": {
      "text/plain": [
       "(6000, 2)"
      ]
     },
     "execution_count": 4,
     "metadata": {},
     "output_type": "execute_result"
    }
   ],
   "source": [
    "# Looking basic info from train dataframe\n",
    "train_data.shape"
   ]
  },
  {
   "cell_type": "markdown",
   "metadata": {},
   "source": [
    "Train Dataframe has 6000 instances with information about SMS and LABEL.   "
   ]
  },
  {
   "cell_type": "code",
   "execution_count": 5,
   "metadata": {},
   "outputs": [
    {
     "name": "stdout",
     "output_type": "stream",
     "text": [
      "<class 'pandas.core.frame.DataFrame'>\n",
      "RangeIndex: 6000 entries, 0 to 5999\n",
      "Data columns (total 2 columns):\n",
      " #   Column  Non-Null Count  Dtype \n",
      "---  ------  --------------  ----- \n",
      " 0   SMS     6000 non-null   object\n",
      " 1   LABEL   6000 non-null   object\n",
      "dtypes: object(2)\n",
      "memory usage: 93.9+ KB\n"
     ]
    }
   ],
   "source": [
    "# Looking for non-nulls and dtype in train_data\n",
    "train_data.info()"
   ]
  },
  {
   "cell_type": "markdown",
   "metadata": {},
   "source": [
    "Train_data has 6000 non-null instances and dtype is object"
   ]
  },
  {
   "cell_type": "markdown",
   "metadata": {},
   "source": [
    "## Exploring the target LABEL\n",
    "Let's explore if the target is balanced and some relations with the SMS content.  \n",
    "\n",
    "Addittional info: Maximum granted SMS lenght = 160.\n"
   ]
  },
  {
   "cell_type": "code",
   "execution_count": 6,
   "metadata": {},
   "outputs": [
    {
     "name": "stdout",
     "output_type": "stream",
     "text": [
      "LABEL: ['blocked' 'ok']\n"
     ]
    },
    {
     "data": {
      "text/plain": [
       "ok         4500\n",
       "blocked    1500\n",
       "Name: LABEL, dtype: int64"
      ]
     },
     "execution_count": 6,
     "metadata": {},
     "output_type": "execute_result"
    }
   ],
   "source": [
    "# Verifying if the target LABEL is balanced\n",
    "print('LABEL:', train_data['LABEL'].unique())\n",
    "train_data['LABEL'].value_counts()"
   ]
  },
  {
   "cell_type": "code",
   "execution_count": 7,
   "metadata": {},
   "outputs": [
    {
     "data": {
      "image/png": "[encoded data removed]",
      "text/plain": [
       "<Figure size 432x288 with 1 Axes>"
      ]
     },
     "metadata": {
      "needs_background": "light"
     },
     "output_type": "display_data"
    }
   ],
   "source": [
    "count_Class=pd.value_counts(train_data[\"LABEL\"], sort= True)\n",
    "count_Class.plot(kind = 'bar',color = [\"green\",\"red\"])\n",
    "plt.title('Bar Plot')\n",
    "plt.show();"
   ]
  },
  {
   "cell_type": "code",
   "execution_count": 8,
   "metadata": {},
   "outputs": [
    {
     "data": {
      "text/html": [
       "<div>\n",
       "<style scoped>\n",
       "    .dataframe tbody tr th:only-of-type {\n",
       "        vertical-align: middle;\n",
       "    }\n",
       "\n",
       "    .dataframe tbody tr th {\n",
       "        vertical-align: top;\n",
       "    }\n",
       "\n",
       "    .dataframe thead tr th {\n",
       "        text-align: left;\n",
       "    }\n",
       "\n",
       "    .dataframe thead tr:last-of-type th {\n",
       "        text-align: right;\n",
       "    }\n",
       "</style>\n",
       "<table border=\"1\" class=\"dataframe\">\n",
       "  <thead>\n",
       "    <tr>\n",
       "      <th></th>\n",
       "      <th colspan=\"4\" halign=\"left\">SMS</th>\n",
       "    </tr>\n",
       "    <tr>\n",
       "      <th></th>\n",
       "      <th>count</th>\n",
       "      <th>unique</th>\n",
       "      <th>top</th>\n",
       "      <th>freq</th>\n",
       "    </tr>\n",
       "    <tr>\n",
       "      <th>LABEL</th>\n",
       "      <th></th>\n",
       "      <th></th>\n",
       "      <th></th>\n",
       "      <th></th>\n",
       "    </tr>\n",
       "  </thead>\n",
       "  <tbody>\n",
       "    <tr>\n",
       "      <th>blocked</th>\n",
       "      <td>1500</td>\n",
       "      <td>1495</td>\n",
       "      <td>Mercado BTC - Ha uma nova mensagem pendente. h...</td>\n",
       "      <td>3</td>\n",
       "    </tr>\n",
       "    <tr>\n",
       "      <th>ok</th>\n",
       "      <td>4500</td>\n",
       "      <td>4364</td>\n",
       "      <td>131.221.110.19 DNS-SECUNDARIO</td>\n",
       "      <td>13</td>\n",
       "    </tr>\n",
       "  </tbody>\n",
       "</table>\n",
       "</div>"
      ],
      "text/plain": [
       "          SMS                                                               \n",
       "        count unique                                                top freq\n",
       "LABEL                                                                       \n",
       "blocked  1500   1495  Mercado BTC - Ha uma nova mensagem pendente. h...    3\n",
       "ok       4500   4364                      131.221.110.19 DNS-SECUNDARIO   13"
      ]
     },
     "execution_count": 8,
     "metadata": {},
     "output_type": "execute_result"
    }
   ],
   "source": [
    "# Looking at the more frequent SMS for each kind of LABEL\n",
    "train_data.groupby('LABEL').describe()"
   ]
  },
  {
   "cell_type": "markdown",
   "metadata": {},
   "source": [
    "There is not a big repetition of same SMS for each kind of LABEL."
   ]
  },
  {
   "cell_type": "code",
   "execution_count": 9,
   "metadata": {},
   "outputs": [
    {
     "data": {
      "text/html": [
       "<div>\n",
       "<style scoped>\n",
       "    .dataframe tbody tr th:only-of-type {\n",
       "        vertical-align: middle;\n",
       "    }\n",
       "\n",
       "    .dataframe tbody tr th {\n",
       "        vertical-align: top;\n",
       "    }\n",
       "\n",
       "    .dataframe thead th {\n",
       "        text-align: right;\n",
       "    }\n",
       "</style>\n",
       "<table border=\"1\" class=\"dataframe\">\n",
       "  <thead>\n",
       "    <tr style=\"text-align: right;\">\n",
       "      <th></th>\n",
       "      <th>SMS</th>\n",
       "      <th>LABEL</th>\n",
       "      <th>LENGHT</th>\n",
       "    </tr>\n",
       "  </thead>\n",
       "  <tbody>\n",
       "    <tr>\n",
       "      <th>0</th>\n",
       "      <td>BOLETO REFERENTE AS PARCELAS EM ATRASO DO CONS...</td>\n",
       "      <td>blocked</td>\n",
       "      <td>142</td>\n",
       "    </tr>\n",
       "    <tr>\n",
       "      <th>1</th>\n",
       "      <td>050003DA0202|lcloud-apple-lnc.com/?iphone=VtBq...</td>\n",
       "      <td>blocked</td>\n",
       "      <td>52</td>\n",
       "    </tr>\n",
       "    <tr>\n",
       "      <th>2</th>\n",
       "      <td>060804CB5F0303|ps: //bancodobrasil.seguranca.gq</td>\n",
       "      <td>blocked</td>\n",
       "      <td>47</td>\n",
       "    </tr>\n",
       "    <tr>\n",
       "      <th>3</th>\n",
       "      <td>Atualizacao ainda nao foi executado em sua con...</td>\n",
       "      <td>blocked</td>\n",
       "      <td>109</td>\n",
       "    </tr>\n",
       "    <tr>\n",
       "      <th>4</th>\n",
       "      <td>0608042BE40303|ps://bancodobrasil.seguranca.cf/</td>\n",
       "      <td>blocked</td>\n",
       "      <td>47</td>\n",
       "    </tr>\n",
       "  </tbody>\n",
       "</table>\n",
       "</div>"
      ],
      "text/plain": [
       "                                                 SMS    LABEL  LENGHT\n",
       "0  BOLETO REFERENTE AS PARCELAS EM ATRASO DO CONS...  blocked     142\n",
       "1  050003DA0202|lcloud-apple-lnc.com/?iphone=VtBq...  blocked      52\n",
       "2    060804CB5F0303|ps: //bancodobrasil.seguranca.gq  blocked      47\n",
       "3  Atualizacao ainda nao foi executado em sua con...  blocked     109\n",
       "4    0608042BE40303|ps://bancodobrasil.seguranca.cf/  blocked      47"
      ]
     },
     "execution_count": 9,
     "metadata": {},
     "output_type": "execute_result"
    }
   ],
   "source": [
    "# Let's create a new feature LENGHT and check the number of characters in SMS\n",
    "# Knowing that the maximum number of characters in SMS = 160\n",
    "train_data['LENGHT'] = train_data['SMS'].apply(len)\n",
    "train_data.head()"
   ]
  },
  {
   "cell_type": "code",
   "execution_count": 10,
   "metadata": {},
   "outputs": [
    {
     "data": {
      "text/plain": [
       "Text(0, 0.5, 'Frequência')"
      ]
     },
     "execution_count": 10,
     "metadata": {},
     "output_type": "execute_result"
    },
    {
     "data": {
      "image/png": "[encoded data removed]",
      "text/plain": [
       "<Figure size 720x288 with 2 Axes>"
      ]
     },
     "metadata": {
      "needs_background": "light"
     },
     "output_type": "display_data"
    }
   ],
   "source": [
    "# Looking how LENGHT varies according to LABEL\n",
    "train_data.hist(column='LENGHT', by='LABEL', bins=50,figsize=(10,4))\n",
    "plt.xlabel(\"SMS Lenght\",fontsize = 12) \n",
    "plt.ylabel(\"Frequência\", fontsize = 12)"
   ]
  },
  {
   "cell_type": "markdown",
   "metadata": {},
   "source": [
    "It's inconclusive. There is no trend of LABEL in terms of LENGHT."
   ]
  },
  {
   "cell_type": "code",
   "execution_count": 11,
   "metadata": {},
   "outputs": [],
   "source": [
    "#Let's delete column LENGHT because it is unuseful\n",
    "del train_data['LENGHT']"
   ]
  },
  {
   "cell_type": "markdown",
   "metadata": {},
   "source": [
    "## Implementation of Bag of Words Approach (BoW)\n"
   ]
  },
  {
   "cell_type": "markdown",
   "metadata": {},
   "source": [
    "Bag of words approach is a way of extracting features from the text for use in machine learning algorithms.  \n",
    "\n",
    "In this approach, we use the tokenized words for each observation and find out the frequency of each token.   \n",
    "\n",
    "Using this process we will convert a collection of documents to a matrix, with each document being a row and each word(token) being the column, and the corresponding (row,column) values being the frequency of occurrence of each word or token in that document."
   ]
  },
  {
   "cell_type": "markdown",
   "metadata": {},
   "source": [
    "## Creating corpus"
   ]
  },
  {
   "cell_type": "markdown",
   "metadata": {},
   "source": [
    "First step is to create a corpus, which is a collection of machine-readable texts, a large and structured set of texts.   \n",
    "\n",
    "We import ‘re’ package and remove punctuation, special characters and convert all characters to lower case.   \n",
    "\n",
    "After that, we need to split a message into words to remove stop-words and to perform stemming.   \n",
    "\n",
    "We import Portuguese stop-words from the NLTK package and removed them if found in the sentence.   \n",
    "\n",
    "While removing stop-words, we perform stemming that is if the word is not a stop-word, it will be converted to its root form. This is called stemming.   \n",
    "\n",
    "Then we are joining the words in the list again to form a message without any stop-words and all words will be present in its root form. Then we append messages to the corpus."
   ]
  },
  {
   "cell_type": "code",
   "execution_count": 12,
   "metadata": {},
   "outputs": [],
   "source": [
    "import re\n",
    "import nltk\n",
    "from nltk.corpus import stopwords\n",
    "from nltk.stem.porter import PorterStemmer"
   ]
  },
  {
   "cell_type": "code",
   "execution_count": 13,
   "metadata": {},
   "outputs": [
    {
     "data": {
      "text/plain": [
       "'support appl Se requier verifiqu su ID appl visit el siguient enlac detal http icloudfind support hntw sG'"
      ]
     },
     "execution_count": 13,
     "metadata": {},
     "output_type": "execute_result"
    }
   ],
   "source": [
    "# Creating a corpus of refinned messages\n",
    "stemming = PorterStemmer()\n",
    "corpus = []\n",
    "\n",
    "for i in range (0,len(train_data)):\n",
    "    s1 = re.sub('[^a-zA-Z]',repl = ' ',string = train_data['SMS'][i])\n",
    "    s1.lower()\n",
    "    s1 = s1.split()\n",
    "    s1 = [stemming.stem(word) for word in s1 if word not in set(stopwords.words('portuguese'))]\n",
    "    s1 = ' '.join(s1)\n",
    "    corpus.append(s1)\n",
    "\n",
    "corpus[50]"
   ]
  },
  {
   "cell_type": "markdown",
   "metadata": {},
   "source": [
    "## Tokenizing and vectorizing the text"
   ]
  },
  {
   "cell_type": "markdown",
   "metadata": {},
   "source": [
    "We’ll import Count-Vectorizer from Scikit-learn library to tokenize and vectorize the text.   \n",
    "\n",
    "By using this Count-Vectorizer we’ll tokenize a collection of text documents and built a vocabulary, this vocabulary is also used to encode new documents.   \n",
    "\n",
    "To use this Count-Vectorizer, first, we’ll create an instance of Count-Vectorizer class.   \n",
    "\n",
    "Then fit () function is used to learn vocabulary from the document and the transform() function is used to encode as a vector.   \n",
    "\n",
    "This vector represents the length of the entire vocabulary and the count for the number of times each word appeared in the document.   \n",
    "\n",
    "Now we have a numeric vector that has been converted from a string of text."
   ]
  },
  {
   "cell_type": "code",
   "execution_count": 14,
   "metadata": {},
   "outputs": [],
   "source": [
    "from sklearn.feature_extraction.text import CountVectorizer\n",
    "countvectorizer =CountVectorizer()\n"
   ]
  },
  {
   "cell_type": "code",
   "execution_count": 15,
   "metadata": {},
   "outputs": [],
   "source": [
    "X = countvectorizer.fit_transform(corpus).toarray()"
   ]
  },
  {
   "cell_type": "code",
   "execution_count": 16,
   "metadata": {},
   "outputs": [
    {
     "data": {
      "text/plain": [
       "(6000, 5221)"
      ]
     },
     "execution_count": 16,
     "metadata": {},
     "output_type": "execute_result"
    }
   ],
   "source": [
    "X.shape"
   ]
  },
  {
   "cell_type": "code",
   "execution_count": 17,
   "metadata": {},
   "outputs": [
    {
     "data": {
      "text/plain": [
       "['aa',\n",
       " 'aaa',\n",
       " 'aacd',\n",
       " 'aaef',\n",
       " 'aaj',\n",
       " 'aapp',\n",
       " 'aar',\n",
       " 'ab',\n",
       " 'abaixo',\n",
       " 'abatia',\n",
       " 'abb',\n",
       " 'abba',\n",
       " 'abc',\n",
       " 'abcd',\n",
       " 'abdia',\n",
       " 'abdovaldo',\n",
       " 'abdx',\n",
       " 'abel',\n",
       " 'abelardo',\n",
       " 'abelmar',\n",
       " 'aberto',\n",
       " 'abertura',\n",
       " 'abigaelli',\n",
       " 'abilio',\n",
       " 'abimael',\n",
       " 'abinadabia',\n",
       " 'abnb',\n",
       " 'abner',\n",
       " 'about',\n",
       " 'abraao',\n",
       " 'abreu',\n",
       " 'abrir',\n",
       " 'absalao',\n",
       " 'ac',\n",
       " 'academi',\n",
       " 'acassio',\n",
       " 'acc',\n",
       " 'accacio',\n",
       " 'accamargo',\n",
       " 'accentur',\n",
       " 'access',\n",
       " 'accesslcloud',\n",
       " 'account',\n",
       " 'acdigit',\n",
       " 'acdigita',\n",
       " 'ace',\n",
       " 'acelino',\n",
       " 'acesa',\n",
       " 'acesqjz',\n",
       " 'acess',\n",
       " 'acessando',\n",
       " 'acessar',\n",
       " 'acesso',\n",
       " 'acessoseguro',\n",
       " 'acion',\n",
       " 'ack',\n",
       " 'acknowledg',\n",
       " 'ackv',\n",
       " 'acl',\n",
       " 'acmadvocacia',\n",
       " 'acompanh',\n",
       " 'acompanhado',\n",
       " 'acompanhei',\n",
       " 'acordo',\n",
       " 'across',\n",
       " 'act',\n",
       " 'action',\n",
       " 'activ',\n",
       " 'actual',\n",
       " 'ad',\n",
       " 'ada',\n",
       " 'adaia',\n",
       " 'adailson',\n",
       " 'adailton',\n",
       " 'adalberon',\n",
       " 'adalberto',\n",
       " 'adalgisa',\n",
       " 'adalicio',\n",
       " 'adalton',\n",
       " 'adam',\n",
       " 'adani',\n",
       " 'adao',\n",
       " 'adaofaraco',\n",
       " 'adar',\n",
       " 'adason',\n",
       " 'adauto',\n",
       " 'adbor',\n",
       " 'addan',\n",
       " 'addit',\n",
       " 'addmark',\n",
       " 'address',\n",
       " 'adeild',\n",
       " 'adeildo',\n",
       " 'adelaid',\n",
       " 'adelia',\n",
       " 'adelino',\n",
       " 'adelma',\n",
       " 'adelmo',\n",
       " 'adelson',\n",
       " 'ademar',\n",
       " 'ademario',\n",
       " 'ademart',\n",
       " 'ademilson',\n",
       " 'ademir',\n",
       " 'ademyr',\n",
       " 'adi',\n",
       " 'adiana',\n",
       " 'adicionado',\n",
       " 'adicionai',\n",
       " 'adiel',\n",
       " 'adielson',\n",
       " 'adilio',\n",
       " 'adilson',\n",
       " 'adilur',\n",
       " 'adilvanir',\n",
       " 'adiv',\n",
       " 'adivania',\n",
       " 'adminip',\n",
       " 'adolfo',\n",
       " 'adolpho',\n",
       " 'adonia',\n",
       " 'adorani',\n",
       " 'adriana',\n",
       " 'adriann',\n",
       " 'adriano',\n",
       " 'adriel',\n",
       " 'adson',\n",
       " 'adv',\n",
       " 'advogado',\n",
       " 'ae',\n",
       " 'aeksqqvl',\n",
       " 'aeq',\n",
       " 'aeqteo',\n",
       " 'aeufr',\n",
       " 'af',\n",
       " 'afonso',\n",
       " 'afranio',\n",
       " 'aft',\n",
       " 'ag',\n",
       " 'again',\n",
       " 'agar',\n",
       " 'agda',\n",
       " 'age',\n",
       " 'agencia',\n",
       " 'agend',\n",
       " 'agendada',\n",
       " 'agendado',\n",
       " 'agendamento',\n",
       " 'agendar',\n",
       " 'agent',\n",
       " 'agentinfo',\n",
       " 'agnaldo',\n",
       " 'agnato',\n",
       " 'ago',\n",
       " 'agora',\n",
       " 'agostinho',\n",
       " 'agostinopasta',\n",
       " 'agradec',\n",
       " 'agrestina',\n",
       " 'agua',\n",
       " 'aguarda',\n",
       " 'aguardamo',\n",
       " 'aguida',\n",
       " 'aguinaldo',\n",
       " 'aguini',\n",
       " 'ah',\n",
       " 'ahava',\n",
       " 'ahdcfa',\n",
       " 'ahgfmw',\n",
       " 'ahx',\n",
       " 'ailon',\n",
       " 'ailton',\n",
       " 'ainda',\n",
       " 'air',\n",
       " 'aira',\n",
       " 'airbnb',\n",
       " 'aitaon',\n",
       " 'aj',\n",
       " 'ajd',\n",
       " 'ajxkeil',\n",
       " 'ajz',\n",
       " 'akadlrxb',\n",
       " 'al',\n",
       " 'alair',\n",
       " 'alan',\n",
       " 'alaor',\n",
       " 'alarm',\n",
       " 'alarmando',\n",
       " 'alauy',\n",
       " 'albertino',\n",
       " 'alberto',\n",
       " 'alcantara',\n",
       " 'alcebiad',\n",
       " 'alcid',\n",
       " 'alcimar',\n",
       " 'alcindo',\n",
       " 'alcion',\n",
       " 'aldenic',\n",
       " 'aldenira',\n",
       " 'aldlem',\n",
       " 'aleandro',\n",
       " 'alecsandra',\n",
       " 'alef',\n",
       " 'alegr',\n",
       " 'alem',\n",
       " 'alert',\n",
       " 'alerta',\n",
       " 'alessand',\n",
       " 'alessandra',\n",
       " 'alessandro',\n",
       " 'alex',\n",
       " 'alexandr',\n",
       " 'alexandro',\n",
       " 'alexia',\n",
       " 'alexsand',\n",
       " 'alexsandra',\n",
       " 'alexsandro',\n",
       " 'alfa',\n",
       " 'alfena',\n",
       " 'alfredo',\n",
       " 'algar',\n",
       " 'algo',\n",
       " 'algum',\n",
       " 'ali',\n",
       " 'alic',\n",
       " 'alin',\n",
       " 'alirio',\n",
       " 'alisson',\n",
       " 'aliv',\n",
       " 'aliza',\n",
       " 'all',\n",
       " 'allana',\n",
       " 'allcom',\n",
       " 'allef',\n",
       " 'allgvt',\n",
       " 'allison',\n",
       " 'almap',\n",
       " 'almeida',\n",
       " 'almirant',\n",
       " 'aloisio',\n",
       " 'alreadi',\n",
       " 'alricelia',\n",
       " 'alt',\n",
       " 'alta',\n",
       " 'altair',\n",
       " 'altamira',\n",
       " 'alteramo',\n",
       " 'alto',\n",
       " 'alu',\n",
       " 'aluizio',\n",
       " 'alv',\n",
       " 'alvaro',\n",
       " 'alvonir',\n",
       " 'alvorada',\n",
       " 'alwycb',\n",
       " 'am',\n",
       " 'amaia',\n",
       " 'amanda',\n",
       " 'amanh',\n",
       " 'amanha',\n",
       " 'amarelo',\n",
       " 'amarildo',\n",
       " 'amaro',\n",
       " 'amauri',\n",
       " 'amazon',\n",
       " 'amazonaw',\n",
       " 'amdoc',\n",
       " 'america',\n",
       " 'americana',\n",
       " 'americo',\n",
       " 'amilson',\n",
       " 'amilton',\n",
       " 'amparo',\n",
       " 'amper',\n",
       " 'amsterdam',\n",
       " 'amt',\n",
       " 'amwu',\n",
       " 'amz',\n",
       " 'an',\n",
       " 'ana',\n",
       " 'anadi',\n",
       " 'anajatuba',\n",
       " 'analis',\n",
       " 'ananindeua',\n",
       " 'anayara',\n",
       " 'anayra',\n",
       " 'and',\n",
       " 'andamento',\n",
       " 'anderson',\n",
       " 'andr',\n",
       " 'andrad',\n",
       " 'andrada',\n",
       " 'andrea',\n",
       " 'andreia',\n",
       " 'andrev',\n",
       " 'andrew',\n",
       " 'android',\n",
       " 'ane',\n",
       " 'anel',\n",
       " 'angel',\n",
       " 'angela',\n",
       " 'angelic',\n",
       " 'angelica',\n",
       " 'angelo',\n",
       " 'angra',\n",
       " 'ani',\n",
       " 'ann',\n",
       " 'anna',\n",
       " 'ano',\n",
       " 'anorm',\n",
       " 'anselmo',\n",
       " 'anterior',\n",
       " 'antero',\n",
       " 'anton',\n",
       " 'antonia',\n",
       " 'antonieta',\n",
       " 'antonio',\n",
       " 'anual',\n",
       " 'anuidad',\n",
       " 'anuidadefre',\n",
       " 'anuidadelivr',\n",
       " 'anytim',\n",
       " 'ao',\n",
       " 'ap',\n",
       " 'apacc',\n",
       " 'aparecida',\n",
       " 'aparecido',\n",
       " 'aparelho',\n",
       " 'apcwwyrf',\n",
       " 'apena',\n",
       " 'api',\n",
       " 'apjmjo',\n",
       " 'apl',\n",
       " 'aplicativo',\n",
       " 'apo',\n",
       " 'aposentado',\n",
       " 'app',\n",
       " 'appacesso',\n",
       " 'appbb',\n",
       " 'appbbdigit',\n",
       " 'appbrasil',\n",
       " 'appcc',\n",
       " 'appestilo',\n",
       " 'appi',\n",
       " 'appiecar',\n",
       " 'appieinc',\n",
       " 'appl',\n",
       " 'appleid',\n",
       " 'appleidrastreio',\n",
       " 'appleidsupport',\n",
       " 'applesuport',\n",
       " 'applesupport',\n",
       " 'applewhatch',\n",
       " 'appuni',\n",
       " 'apr',\n",
       " 'apresenta',\n",
       " 'aprovada',\n",
       " 'aprovado',\n",
       " 'aproveit',\n",
       " 'apztgp',\n",
       " 'aq',\n",
       " 'aqpax',\n",
       " 'aqrtdf',\n",
       " 'aquiraz',\n",
       " 'ar',\n",
       " 'aracaju',\n",
       " 'araguaina',\n",
       " 'araguari',\n",
       " 'arajyh',\n",
       " 'aranha',\n",
       " 'arapiraca',\n",
       " 'araponga',\n",
       " 'arara',\n",
       " 'ararangu',\n",
       " 'ararangua',\n",
       " 'araraquara',\n",
       " 'arax',\n",
       " 'araxa',\n",
       " 'arcoverd',\n",
       " 'are',\n",
       " 'areacaixa',\n",
       " 'areia',\n",
       " 'arez',\n",
       " 'arg',\n",
       " 'argemiro',\n",
       " 'ariagno',\n",
       " 'arino',\n",
       " 'arismar',\n",
       " 'aritusa',\n",
       " 'arleid',\n",
       " 'armacao',\n",
       " 'arnaldo',\n",
       " 'arno',\n",
       " 'aroga',\n",
       " 'arozii',\n",
       " 'arpf',\n",
       " 'arpfr',\n",
       " 'arqueiro',\n",
       " 'arroio',\n",
       " 'arssgpweb',\n",
       " 'art',\n",
       " 'arthur',\n",
       " 'artur',\n",
       " 'aryton',\n",
       " 'as',\n",
       " 'asahi',\n",
       " 'asap',\n",
       " 'asem',\n",
       " 'ashburn',\n",
       " 'asia',\n",
       " 'asiq',\n",
       " 'asr',\n",
       " 'assai',\n",
       " 'assi',\n",
       " 'assinada',\n",
       " 'assinatura',\n",
       " 'assist',\n",
       " 'associ',\n",
       " 'associado',\n",
       " 'assunto',\n",
       " 'asterisk',\n",
       " 'astpd',\n",
       " 'at',\n",
       " 'atalaia',\n",
       " 'atbr',\n",
       " 'ate',\n",
       " 'atella',\n",
       " 'atencao',\n",
       " 'atenciosament',\n",
       " 'atendimento',\n",
       " 'atendimentobr',\n",
       " 'athayd',\n",
       " 'atibaia',\n",
       " 'ativ',\n",
       " 'ativado',\n",
       " 'ativar',\n",
       " 'ativo',\n",
       " 'ato',\n",
       " 'atraso',\n",
       " 'atrav',\n",
       " 'atribuimo',\n",
       " 'atrium',\n",
       " 'att',\n",
       " 'attempt',\n",
       " 'attend',\n",
       " 'attent',\n",
       " 'atual',\n",
       " 'atualiza',\n",
       " 'atualizabb',\n",
       " 'atualizacao',\n",
       " 'atualizacaored',\n",
       " 'atualizaco',\n",
       " 'atualizar',\n",
       " 'atualizarmobil',\n",
       " 'atualizebbacesso',\n",
       " 'au',\n",
       " 'aug',\n",
       " 'augusta',\n",
       " 'aujpdwt',\n",
       " 'aurelian',\n",
       " 'ausent',\n",
       " 'aut',\n",
       " 'auth',\n",
       " 'authent',\n",
       " 'author',\n",
       " 'auto',\n",
       " 'automotiva',\n",
       " 'autoridad',\n",
       " 'autoriza',\n",
       " 'autorizado',\n",
       " 'autosi',\n",
       " 'auwypiz',\n",
       " 'av',\n",
       " 'avaliaco',\n",
       " 'avar',\n",
       " 'avaya',\n",
       " 'avec',\n",
       " 'aviso',\n",
       " 'avisobbsm',\n",
       " 'avon',\n",
       " 'away',\n",
       " 'ax',\n",
       " 'axa',\n",
       " 'axh',\n",
       " 'ay',\n",
       " 'azhxwr',\n",
       " 'azlfbkp',\n",
       " 'azul',\n",
       " 'ba',\n",
       " 'bacalhau',\n",
       " 'backbon',\n",
       " 'backoffic',\n",
       " 'backup',\n",
       " 'bad',\n",
       " 'badger',\n",
       " 'bae',\n",
       " 'baia',\n",
       " 'bairro',\n",
       " 'baix',\n",
       " 'balsa',\n",
       " 'bambui',\n",
       " 'banco',\n",
       " 'bancobrasil',\n",
       " 'bancodobrasil',\n",
       " 'bancodobrasilapp',\n",
       " 'bandeirant',\n",
       " 'bang',\n",
       " 'bangalor',\n",
       " 'bangkok',\n",
       " 'bangu',\n",
       " 'banknet',\n",
       " 'barbara',\n",
       " 'barcelona',\n",
       " 'barra',\n",
       " 'barreira',\n",
       " 'barreiro',\n",
       " 'barreto',\n",
       " 'barri',\n",
       " 'barril',\n",
       " 'barroso',\n",
       " 'barueri',\n",
       " 'base',\n",
       " 'basebox',\n",
       " 'basilia',\n",
       " 'bassem',\n",
       " 'basto',\n",
       " 'batista',\n",
       " 'baussmkcx',\n",
       " 'baw',\n",
       " 'bazar',\n",
       " 'bazelgeus',\n",
       " 'bb',\n",
       " 'bbapp',\n",
       " 'bbatualiazacao',\n",
       " 'bbatualiza',\n",
       " 'bbclient',\n",
       " 'bbdigit',\n",
       " 'bbestilo',\n",
       " 'bbinforma',\n",
       " 'bbrasildesbloqueio',\n",
       " 'bbresgat',\n",
       " 'bbsmile',\n",
       " 'bbsmilesgol',\n",
       " 'bc',\n",
       " 'bcae',\n",
       " 'bcgbm',\n",
       " 'bczziapi',\n",
       " 'bd',\n",
       " 'bde',\n",
       " 'bdkc',\n",
       " 'bdpx',\n",
       " 'be',\n",
       " 'bear',\n",
       " 'beatriz',\n",
       " 'beauharnoi',\n",
       " 'beberib',\n",
       " 'bebo',\n",
       " 'been',\n",
       " 'befor',\n",
       " 'behv',\n",
       " 'beij',\n",
       " 'bel',\n",
       " 'bela',\n",
       " 'belabiju',\n",
       " 'belford',\n",
       " 'beljevac',\n",
       " 'belo',\n",
       " 'below',\n",
       " 'bem',\n",
       " 'benedito',\n",
       " 'bennett',\n",
       " 'benoitindisponivel',\n",
       " 'benson',\n",
       " 'bento',\n",
       " 'bepay',\n",
       " 'ber',\n",
       " 'bergen',\n",
       " 'bernardi',\n",
       " 'bertioga',\n",
       " 'bet',\n",
       " 'betim',\n",
       " 'bexddjw',\n",
       " 'bf',\n",
       " 'bff',\n",
       " 'bflijwtv',\n",
       " 'bfmlq',\n",
       " 'bg',\n",
       " 'bgp',\n",
       " 'bgpsession',\n",
       " 'bh',\n",
       " 'bhft',\n",
       " 'bhm',\n",
       " 'bhopal',\n",
       " 'bi',\n",
       " 'bianca',\n",
       " 'bicanga',\n",
       " 'bid',\n",
       " 'big',\n",
       " 'bilac',\n",
       " 'bin',\n",
       " 'binatur',\n",
       " 'biosa',\n",
       " 'bird',\n",
       " 'birigui',\n",
       " 'biritiba',\n",
       " 'biscuit',\n",
       " 'bismarck',\n",
       " 'bit',\n",
       " 'bitcola',\n",
       " 'bitli',\n",
       " 'bitnuvem',\n",
       " 'bito',\n",
       " 'bituruna',\n",
       " 'bivhz',\n",
       " 'bix',\n",
       " 'biz',\n",
       " 'bizlr',\n",
       " 'bjvgpkkpu',\n",
       " 'bkhyjm',\n",
       " 'bkp',\n",
       " 'bksxu',\n",
       " 'bkwqxqvc',\n",
       " 'bkywpttf',\n",
       " 'bl',\n",
       " 'black',\n",
       " 'blk',\n",
       " 'blletrft',\n",
       " 'block',\n",
       " 'bloq',\n",
       " 'bloque',\n",
       " 'bloqueada',\n",
       " 'bloqueado',\n",
       " 'bloqueadoprocur',\n",
       " 'bloqueamento',\n",
       " 'bloquear',\n",
       " 'bloqueio',\n",
       " 'blue',\n",
       " 'blumenau',\n",
       " 'blustelecom',\n",
       " 'bmanagem',\n",
       " 'bme',\n",
       " 'bmi',\n",
       " 'bo',\n",
       " 'boa',\n",
       " 'boleto',\n",
       " 'bom',\n",
       " 'bommtempo',\n",
       " 'bonatto',\n",
       " 'bonfim',\n",
       " 'bonfinopoli',\n",
       " 'bonifacio',\n",
       " 'bonito',\n",
       " 'bonjour',\n",
       " 'book',\n",
       " 'boquim',\n",
       " 'boqwzgkp',\n",
       " 'borda',\n",
       " 'borg',\n",
       " 'bot',\n",
       " 'botafogo',\n",
       " 'botfpwuq',\n",
       " 'bottcher',\n",
       " 'bp',\n",
       " 'bpcpbhr',\n",
       " 'bpr',\n",
       " 'bq',\n",
       " 'bqapsogf',\n",
       " 'bqgyz',\n",
       " 'bqi',\n",
       " 'br',\n",
       " 'bra',\n",
       " 'braco',\n",
       " 'bradescard',\n",
       " 'bradesco',\n",
       " 'brallcom',\n",
       " 'branc',\n",
       " 'branca',\n",
       " 'branco',\n",
       " 'brasi',\n",
       " 'brasil',\n",
       " 'brasilia',\n",
       " 'brasilit',\n",
       " 'brasilprepago',\n",
       " 'brasilusa',\n",
       " 'bravo',\n",
       " 'braz',\n",
       " 'brazil',\n",
       " 'brazlandia',\n",
       " 'brb',\n",
       " 'brc',\n",
       " 'brcgi',\n",
       " 'brdol',\n",
       " 'brejo',\n",
       " 'brenda',\n",
       " 'breve',\n",
       " 'brf',\n",
       " 'brian',\n",
       " 'brivalda',\n",
       " 'brnetindisponivel',\n",
       " 'brodowski',\n",
       " 'brota',\n",
       " 'browser',\n",
       " 'brscltotvsdb',\n",
       " 'brsp',\n",
       " 'brspesocweb',\n",
       " 'brspesocwebdev',\n",
       " 'brspitop',\n",
       " 'brspladb',\n",
       " 'brspladev',\n",
       " 'brsplawa',\n",
       " 'brspnfeapp',\n",
       " 'brspnfedb',\n",
       " 'brspnfedev',\n",
       " 'brsprmccdb',\n",
       " 'brsprouter',\n",
       " 'brspsync',\n",
       " 'brsptt',\n",
       " 'brst',\n",
       " 'brt',\n",
       " 'brtssdb',\n",
       " 'brum',\n",
       " 'brumadinho',\n",
       " 'bruna',\n",
       " 'bruno',\n",
       " 'brunoalv',\n",
       " 'brusqu',\n",
       " 'brv',\n",
       " 'brwm',\n",
       " 'brwmsbld',\n",
       " 'brwmsnim',\n",
       " 'brwmswasdev',\n",
       " 'bs',\n",
       " 'bsp',\n",
       " 'bss',\n",
       " 'bt',\n",
       " 'btc',\n",
       " 'bu',\n",
       " 'bueno',\n",
       " 'bugr',\n",
       " 'bula',\n",
       " 'bullet',\n",
       " 'bumm',\n",
       " 'buq',\n",
       " 'buritama',\n",
       " 'buriti',\n",
       " 'buriticupu',\n",
       " 'busca',\n",
       " 'buscando',\n",
       " 'buscar',\n",
       " 'buscarmeudispositivo',\n",
       " 'butwxf',\n",
       " 'bv',\n",
       " 'bveb',\n",
       " 'bw',\n",
       " 'bwj',\n",
       " 'bwqt',\n",
       " 'bxco',\n",
       " 'bxjsk',\n",
       " 'by',\n",
       " 'byxjpbrxg',\n",
       " 'byymg',\n",
       " 'bz',\n",
       " 'bzmpla',\n",
       " 'bztpphj',\n",
       " 'ca',\n",
       " 'caba',\n",
       " 'cabaceira',\n",
       " 'cabo',\n",
       " 'cabonnet',\n",
       " 'cacaushow',\n",
       " 'cach',\n",
       " 'cachoeira',\n",
       " 'cacoal',\n",
       " 'cadastr',\n",
       " 'cadastrado',\n",
       " 'cadastrai',\n",
       " 'cadastramento',\n",
       " 'cadastramo',\n",
       " 'cadastro',\n",
       " 'caeihhq',\n",
       " 'caeta',\n",
       " 'caetan',\n",
       " 'caetano',\n",
       " 'cafelandia',\n",
       " 'caico',\n",
       " 'caieira',\n",
       " 'caina',\n",
       " 'caio',\n",
       " 'caixa',\n",
       " 'caixaeconomica',\n",
       " 'caixafinanceira',\n",
       " 'calda',\n",
       " 'call',\n",
       " 'callebaut',\n",
       " 'callin',\n",
       " 'calliop',\n",
       " 'camapua',\n",
       " 'cambara',\n",
       " 'camboriu',\n",
       " 'camburi',\n",
       " 'cameta',\n",
       " 'camila',\n",
       " 'camisa',\n",
       " 'campanha',\n",
       " 'campina',\n",
       " 'campo',\n",
       " 'can',\n",
       " 'cana',\n",
       " 'canaa',\n",
       " 'canal',\n",
       " 'cananeia',\n",
       " 'canavieira',\n",
       " 'cancelamento',\n",
       " 'cancelar',\n",
       " 'cancun',\n",
       " 'candidat',\n",
       " 'candido',\n",
       " 'canjea',\n",
       " 'cannot',\n",
       " 'canoa',\n",
       " 'canta',\n",
       " 'capao',\n",
       " 'capaz',\n",
       " 'capelinha',\n",
       " 'capim',\n",
       " 'capit',\n",
       " 'capitao',\n",
       " 'capivari',\n",
       " 'caq',\n",
       " 'car',\n",
       " 'cara',\n",
       " 'carapebu',\n",
       " 'carapicuiba',\n",
       " 'carat',\n",
       " 'card',\n",
       " 'cardoso',\n",
       " 'caresupport',\n",
       " 'cariacica',\n",
       " 'carin',\n",
       " 'carla',\n",
       " 'carlo',\n",
       " 'carlopoli',\n",
       " 'carmelo',\n",
       " 'carmem',\n",
       " 'carmen',\n",
       " 'carmo',\n",
       " 'carmopoli',\n",
       " 'carnav',\n",
       " 'caro',\n",
       " 'carol',\n",
       " 'carolalmeidagaldino',\n",
       " 'carolin',\n",
       " 'carolina',\n",
       " 'carpina',\n",
       " 'cart',\n",
       " 'cartao',\n",
       " 'carteira',\n",
       " 'caruaru',\n",
       " 'casa',\n",
       " 'casasbahia',\n",
       " 'casca',\n",
       " 'cascalheira',\n",
       " 'cascavel',\n",
       " 'case',\n",
       " 'caso',\n",
       " 'cassia',\n",
       " 'cassio',\n",
       " 'castanh',\n",
       " 'castro',\n",
       " 'catal',\n",
       " 'catalyst',\n",
       " 'catanduva',\n",
       " 'catch',\n",
       " 'cattan',\n",
       " 'catu',\n",
       " 'caucaia',\n",
       " 'cav',\n",
       " 'cavalcant',\n",
       " 'caxia',\n",
       " 'cb',\n",
       " 'cbun',\n",
       " 'cc',\n",
       " 'ccc',\n",
       " 'ccj',\n",
       " 'cclient',\n",
       " 'ccr',\n",
       " 'ccul',\n",
       " 'cd',\n",
       " 'cdc',\n",
       " 'cdevelay',\n",
       " 'cdn',\n",
       " 'cdo',\n",
       " 'cdyf',\n",
       " 'ce',\n",
       " 'ceap',\n",
       " 'cec',\n",
       " 'cedral',\n",
       " 'cedro',\n",
       " 'ceeduc',\n",
       " 'cef',\n",
       " 'cefmobisac',\n",
       " 'ceilandia',\n",
       " 'cek',\n",
       " 'cel',\n",
       " 'celi',\n",
       " 'celia',\n",
       " 'celina',\n",
       " 'celso',\n",
       " 'celular',\n",
       " 'cemaf',\n",
       " 'cemec',\n",
       " 'cemporcentosk',\n",
       " 'center',\n",
       " 'centerserv',\n",
       " 'central',\n",
       " 'centreon',\n",
       " 'centro',\n",
       " 'cerquilho',\n",
       " 'cerro',\n",
       " 'certif',\n",
       " 'certo',\n",
       " 'cesar',\n",
       " 'cess',\n",
       " 'cesta',\n",
       " 'ceu',\n",
       " 'cf',\n",
       " 'cfh',\n",
       " 'cfibbc',\n",
       " 'cfstzr',\n",
       " 'cg',\n",
       " 'cge',\n",
       " 'cgp',\n",
       " 'cgsantanna',\n",
       " 'ch',\n",
       " 'chama',\n",
       " 'chamada',\n",
       " 'chang',\n",
       " 'chapeco',\n",
       " 'charl',\n",
       " 'chave',\n",
       " 'che',\n",
       " 'check',\n",
       " 'chegada',\n",
       " 'chegar',\n",
       " 'chegou',\n",
       " 'chengdu',\n",
       " 'chennai',\n",
       " 'chequ',\n",
       " 'chiayi',\n",
       " 'chicago',\n",
       " 'chqbbmk',\n",
       " 'christiano',\n",
       " 'chrome',\n",
       " 'chsxz',\n",
       " 'chu',\n",
       " 'ci',\n",
       " 'cianort',\n",
       " 'cibel',\n",
       " 'cicera',\n",
       " 'cicero',\n",
       " 'cidad',\n",
       " 'cidreira',\n",
       " 'cient',\n",
       " 'cij',\n",
       " 'cincinnati',\n",
       " 'cinthia',\n",
       " 'cintia',\n",
       " 'cinza',\n",
       " 'cio',\n",
       " 'cipo',\n",
       " 'cirurgia',\n",
       " 'cisco',\n",
       " 'citi',\n",
       " 'citibank',\n",
       " 'citifon',\n",
       " 'cj',\n",
       " 'cjg',\n",
       " 'cjn',\n",
       " 'cjywqr',\n",
       " 'ck',\n",
       " 'cket',\n",
       " 'ckk',\n",
       " 'cl',\n",
       " 'claim',\n",
       " 'clara',\n",
       " 'claric',\n",
       " 'claro',\n",
       " 'claudeci',\n",
       " 'claudemir',\n",
       " 'claudenic',\n",
       " 'claudet',\n",
       " 'claudia',\n",
       " 'claudilen',\n",
       " 'claudio',\n",
       " 'claudiria',\n",
       " 'claudivania',\n",
       " 'clayton',\n",
       " 'cldl',\n",
       " 'cleartext',\n",
       " 'cleber',\n",
       " ...]"
      ]
     },
     "execution_count": 17,
     "metadata": {},
     "output_type": "execute_result"
    }
   ],
   "source": [
    "# Assigning all the words in an object\n",
    "# This feature_cols with be used further in the validation_data vectorizing process\n",
    "feature_cols = countvectorizer.get_feature_names()\n",
    "feature_cols"
   ]
  },
  {
   "cell_type": "code",
   "execution_count": 18,
   "metadata": {},
   "outputs": [
    {
     "name": "stdout",
     "output_type": "stream",
     "text": [
      "['blocked' 'blocked' 'blocked' ... 'ok' 'ok' 'ok']\n"
     ]
    }
   ],
   "source": [
    "y = train_data['LABEL'].values\n",
    "print(y)"
   ]
  },
  {
   "cell_type": "code",
   "execution_count": 19,
   "metadata": {},
   "outputs": [],
   "source": [
    "# Let's now balance the target with oversampling using the algorithm SMOTE (Synthetic Minority Oversample)\n",
    "from imblearn.over_sampling import SMOTE"
   ]
  },
  {
   "cell_type": "code",
   "execution_count": 20,
   "metadata": {},
   "outputs": [],
   "source": [
    "# Transforming the dataset\n",
    "oversample = SMOTE(random_state = 12)\n",
    "X, y = oversample.fit_resample(X, y)"
   ]
  },
  {
   "cell_type": "code",
   "execution_count": 21,
   "metadata": {},
   "outputs": [
    {
     "name": "stdout",
     "output_type": "stream",
     "text": [
      "Counter({'blocked': 4500, 'ok': 4500})\n"
     ]
    }
   ],
   "source": [
    "# Summarizing the new class distribution\n",
    "from collections import Counter\n",
    "counter = Counter(y)\n",
    "print(counter)"
   ]
  },
  {
   "cell_type": "markdown",
   "metadata": {},
   "source": [
    "We confirm above that the target LABEL is now balanced."
   ]
  },
  {
   "cell_type": "markdown",
   "metadata": {},
   "source": [
    "## Train – Test Split"
   ]
  },
  {
   "cell_type": "markdown",
   "metadata": {},
   "source": [
    "Let's split the train_data into Train and Test subsets with Scikit-learn."
   ]
  },
  {
   "cell_type": "code",
   "execution_count": 22,
   "metadata": {},
   "outputs": [
    {
     "name": "stdout",
     "output_type": "stream",
     "text": [
      "(6300, 5221)\n",
      "(2700, 5221)\n"
     ]
    }
   ],
   "source": [
    "from sklearn.model_selection import train_test_split\n",
    "X_train,X_test,y_train,y_test = train_test_split(X,y,test_size = 0.3, stratify=y,random_state=100)\n",
    "print(X_train.shape)\n",
    "print(X_test.shape)"
   ]
  },
  {
   "cell_type": "markdown",
   "metadata": {},
   "source": [
    "## Naïve Bayes Model"
   ]
  },
  {
   "cell_type": "markdown",
   "metadata": {},
   "source": [
    "A good text classifier is a classifier that efficiently categorizes large sets of text documents in a reasonable time frame and with acceptable accuracy, and that provides classification rules that are humanly readable for possible fine-tuning.   \n",
    "\n",
    "Despite the limitation in assuming independence of the attributes Naive Bayes classifier yields good results.\n",
    "\n",
    "One of the major advantages that Naive Bayes has over other classification algorithms is its ability to handle an extremely large number of features. In our case, each word is treated as a feature and there are thousands of different words. Also, it performs well even with the presence of irrelevant features and is relatively unaffected by them.\n",
    "\n",
    "The other major advantage it has is its relative simplicity. Naive Bayes' works well right out of the box and tuning it's parameters is rarely ever necessary, except usually in cases where the distribution of the data is known.\n",
    "\n",
    "It rarely ever overfits the data.\n",
    "\n",
    "Another important advantage is that its model training and prediction times are very fast for the amount of data it can handle."
   ]
  },
  {
   "cell_type": "code",
   "execution_count": 23,
   "metadata": {},
   "outputs": [
    {
     "data": {
      "text/plain": [
       "GaussianNB()"
      ]
     },
     "execution_count": 23,
     "metadata": {},
     "output_type": "execute_result"
    }
   ],
   "source": [
    "from sklearn.naive_bayes import GaussianNB\n",
    "model = GaussianNB()\n",
    "model.fit(X_train,y_train)"
   ]
  },
  {
   "cell_type": "code",
   "execution_count": 24,
   "metadata": {},
   "outputs": [],
   "source": [
    "# Predicting on test data\n",
    "y_pred = model.predict(X_test)"
   ]
  },
  {
   "cell_type": "markdown",
   "metadata": {},
   "source": [
    "## Results"
   ]
  },
  {
   "cell_type": "markdown",
   "metadata": {},
   "source": [
    "Let's evalute the quality of our model using the classification report grid and plotting it with a heatmap.  \n",
    "\n",
    "The more important metrics is the Recall for OK SMS, once we want to avoid spam messages to be delivered.  \n",
    "\n",
    "We can find below Recall (for OK) of our model is 98%. "
   ]
  },
  {
   "cell_type": "code",
   "execution_count": 25,
   "metadata": {},
   "outputs": [
    {
     "name": "stdout",
     "output_type": "stream",
     "text": [
      "              precision    recall  f1-score   support\n",
      "\n",
      "     blocked       0.98      1.00      0.99      1350\n",
      "          ok       1.00      0.98      0.99      1350\n",
      "\n",
      "    accuracy                           0.99      2700\n",
      "   macro avg       0.99      0.99      0.99      2700\n",
      "weighted avg       0.99      0.99      0.99      2700\n",
      "\n"
     ]
    }
   ],
   "source": [
    "from sklearn.metrics import classification_report, confusion_matrix\n",
    "\n",
    "print(classification_report(y_test,y_pred))\n"
   ]
  },
  {
   "cell_type": "code",
   "execution_count": 26,
   "metadata": {},
   "outputs": [
    {
     "data": {
      "image/png": "[encoded data removed]",
      "text/plain": [
       "<Figure size 432x288 with 1 Axes>"
      ]
     },
     "metadata": {
      "needs_background": "light"
     },
     "output_type": "display_data"
    }
   ],
   "source": [
    "# Plotting the confusion matrix with heatmap\n",
    "mat = confusion_matrix(y_test, y_pred)\n",
    "sns.heatmap(mat.T, square = True, annot = True, fmt = 'd', cbar = False)\n",
    "\n",
    "plt.rc('font', size=28)\n",
    "plt.rc('axes', titlesize=18)\n",
    "plt.rc('axes', labelsize=28)\n",
    "plt.rc('xtick', labelsize=18)\n",
    "plt.rc('ytick', labelsize=18) \n",
    "plt.xlabel('true label')\n",
    "plt.ylabel('predicted label')\n",
    "plt.title('Confusion Matrix for 0-OK and 1-Blocked');"
   ]
  },
  {
   "cell_type": "markdown",
   "metadata": {},
   "source": [
    "## Validation"
   ]
  },
  {
   "cell_type": "code",
   "execution_count": 27,
   "metadata": {},
   "outputs": [],
   "source": [
    "# Reading the dataset and assigning it to an object\n",
    "validation_data = pd.read_csv('validation_data_original.csv')"
   ]
  },
  {
   "cell_type": "code",
   "execution_count": 28,
   "metadata": {},
   "outputs": [
    {
     "data": {
      "text/html": [
       "<div>\n",
       "<style scoped>\n",
       "    .dataframe tbody tr th:only-of-type {\n",
       "        vertical-align: middle;\n",
       "    }\n",
       "\n",
       "    .dataframe tbody tr th {\n",
       "        vertical-align: top;\n",
       "    }\n",
       "\n",
       "    .dataframe thead th {\n",
       "        text-align: right;\n",
       "    }\n",
       "</style>\n",
       "<table border=\"1\" class=\"dataframe\">\n",
       "  <thead>\n",
       "    <tr style=\"text-align: right;\">\n",
       "      <th></th>\n",
       "      <th>SMS</th>\n",
       "    </tr>\n",
       "  </thead>\n",
       "  <tbody>\n",
       "    <tr>\n",
       "      <th>0</th>\n",
       "      <td>BB informa:Prezado cliente suas senhas de ACES...</td>\n",
       "    </tr>\n",
       "    <tr>\n",
       "      <th>1</th>\n",
       "      <td>BB informa:Prezado cliente suas senhas de ACES...</td>\n",
       "    </tr>\n",
       "    <tr>\n",
       "      <th>2</th>\n",
       "      <td>BB informa:Prezado cliente suas senhas de ACES...</td>\n",
       "    </tr>\n",
       "    <tr>\n",
       "      <th>3</th>\n",
       "      <td>Node Warning: SFRO01H000001.call.br Warning em...</td>\n",
       "    </tr>\n",
       "    <tr>\n",
       "      <th>4</th>\n",
       "      <td>BB informa:Prezado cliente suas senhas de ACES...</td>\n",
       "    </tr>\n",
       "  </tbody>\n",
       "</table>\n",
       "</div>"
      ],
      "text/plain": [
       "                                                 SMS\n",
       "0  BB informa:Prezado cliente suas senhas de ACES...\n",
       "1  BB informa:Prezado cliente suas senhas de ACES...\n",
       "2  BB informa:Prezado cliente suas senhas de ACES...\n",
       "3  Node Warning: SFRO01H000001.call.br Warning em...\n",
       "4  BB informa:Prezado cliente suas senhas de ACES..."
      ]
     },
     "execution_count": 28,
     "metadata": {},
     "output_type": "execute_result"
    }
   ],
   "source": [
    "# Looking at firsts rows from dataframe validation_data\n",
    "validation_data.head()"
   ]
  },
  {
   "cell_type": "code",
   "execution_count": 29,
   "metadata": {},
   "outputs": [],
   "source": [
    "# Keeping the original validation data in an object\n",
    "original_validation_data = validation_data"
   ]
  },
  {
   "cell_type": "code",
   "execution_count": 30,
   "metadata": {},
   "outputs": [
    {
     "data": {
      "text/plain": [
       "(2000, 1)"
      ]
     },
     "execution_count": 30,
     "metadata": {},
     "output_type": "execute_result"
    }
   ],
   "source": [
    "# Looking basic info from validation dataframe\n",
    "validation_data.shape"
   ]
  },
  {
   "cell_type": "markdown",
   "metadata": {},
   "source": [
    "validation_data has 2000 instances and 1 attribute SMS"
   ]
  },
  {
   "cell_type": "code",
   "execution_count": 31,
   "metadata": {},
   "outputs": [
    {
     "name": "stdout",
     "output_type": "stream",
     "text": [
      "<class 'pandas.core.frame.DataFrame'>\n",
      "RangeIndex: 2000 entries, 0 to 1999\n",
      "Data columns (total 1 columns):\n",
      " #   Column  Non-Null Count  Dtype \n",
      "---  ------  --------------  ----- \n",
      " 0   SMS     2000 non-null   object\n",
      "dtypes: object(1)\n",
      "memory usage: 15.8+ KB\n"
     ]
    }
   ],
   "source": [
    "# Looking for non-nulls and dtype in validation_data\n",
    "validation_data.info()"
   ]
  },
  {
   "cell_type": "markdown",
   "metadata": {},
   "source": [
    "All validation_data are non-null and dtype is object."
   ]
  },
  {
   "cell_type": "code",
   "execution_count": 32,
   "metadata": {},
   "outputs": [
    {
     "data": {
      "text/plain": [
       "'BB informa prezado client senha acess serao bloqueada seguranca caso nao atual dado http bbseguro app celular mobi dkwz'"
      ]
     },
     "execution_count": 32,
     "metadata": {},
     "output_type": "execute_result"
    }
   ],
   "source": [
    "# Creating a corpus of refinned messages\n",
    "stemming = PorterStemmer()\n",
    "corpus = []\n",
    "\n",
    "for i in range (0,len(validation_data)):\n",
    "    s1 = re.sub('[^a-zA-Z]',repl = ' ',string = validation_data['SMS'][i])\n",
    "    s1.lower()\n",
    "    s1 = s1.split()\n",
    "    s1 = [stemming.stem(word) for word in s1 if word not in set(stopwords.words('portuguese'))]\n",
    "    s1 = ' '.join(s1)\n",
    "    corpus.append(s1)\n",
    "\n",
    "corpus[50]"
   ]
  },
  {
   "cell_type": "code",
   "execution_count": 33,
   "metadata": {},
   "outputs": [],
   "source": [
    "# Tokenizing and vectorizing\n",
    "countvectorizer = CountVectorizer(vocabulary = feature_cols)\n",
    "X_validation = countvectorizer.fit_transform(corpus).toarray()"
   ]
  },
  {
   "cell_type": "code",
   "execution_count": 34,
   "metadata": {},
   "outputs": [
    {
     "data": {
      "text/plain": [
       "(2000, 5221)"
      ]
     },
     "execution_count": 34,
     "metadata": {},
     "output_type": "execute_result"
    }
   ],
   "source": [
    "X_validation.shape"
   ]
  },
  {
   "cell_type": "code",
   "execution_count": 35,
   "metadata": {},
   "outputs": [
    {
     "data": {
      "text/plain": [
       "(2700, 5221)"
      ]
     },
     "execution_count": 35,
     "metadata": {},
     "output_type": "execute_result"
    }
   ],
   "source": [
    "X_test.shape"
   ]
  },
  {
   "cell_type": "code",
   "execution_count": 36,
   "metadata": {},
   "outputs": [
    {
     "data": {
      "text/plain": [
       "array(['blocked', 'blocked', 'blocked', ..., 'ok', 'ok', 'ok'],\n",
       "      dtype='<U7')"
      ]
     },
     "execution_count": 36,
     "metadata": {},
     "output_type": "execute_result"
    }
   ],
   "source": [
    "# Predicting on validation data\n",
    "y_pred = model.predict(X_validation)\n",
    "y_pred"
   ]
  },
  {
   "cell_type": "code",
   "execution_count": 37,
   "metadata": {},
   "outputs": [
    {
     "data": {
      "text/plain": [
       "Counter({'blocked': 218, 'ok': 1782})"
      ]
     },
     "execution_count": 37,
     "metadata": {},
     "output_type": "execute_result"
    }
   ],
   "source": [
    "# Counting the occurrences in the predicted LABEL\n",
    "import collections, numpy\n",
    "collections.Counter(y_pred)\n"
   ]
  },
  {
   "cell_type": "code",
   "execution_count": 38,
   "metadata": {},
   "outputs": [
    {
     "data": {
      "text/html": [
       "<div>\n",
       "<style scoped>\n",
       "    .dataframe tbody tr th:only-of-type {\n",
       "        vertical-align: middle;\n",
       "    }\n",
       "\n",
       "    .dataframe tbody tr th {\n",
       "        vertical-align: top;\n",
       "    }\n",
       "\n",
       "    .dataframe thead th {\n",
       "        text-align: right;\n",
       "    }\n",
       "</style>\n",
       "<table border=\"1\" class=\"dataframe\">\n",
       "  <thead>\n",
       "    <tr style=\"text-align: right;\">\n",
       "      <th></th>\n",
       "      <th>SMS</th>\n",
       "      <th>PREDICTED LABEL</th>\n",
       "    </tr>\n",
       "  </thead>\n",
       "  <tbody>\n",
       "    <tr>\n",
       "      <th>0</th>\n",
       "      <td>BB informa:Prezado cliente suas senhas de ACES...</td>\n",
       "      <td>blocked</td>\n",
       "    </tr>\n",
       "    <tr>\n",
       "      <th>1</th>\n",
       "      <td>BB informa:Prezado cliente suas senhas de ACES...</td>\n",
       "      <td>blocked</td>\n",
       "    </tr>\n",
       "    <tr>\n",
       "      <th>2</th>\n",
       "      <td>BB informa:Prezado cliente suas senhas de ACES...</td>\n",
       "      <td>blocked</td>\n",
       "    </tr>\n",
       "    <tr>\n",
       "      <th>3</th>\n",
       "      <td>Node Warning: SFRO01H000001.call.br Warning em...</td>\n",
       "      <td>ok</td>\n",
       "    </tr>\n",
       "    <tr>\n",
       "      <th>4</th>\n",
       "      <td>BB informa:Prezado cliente suas senhas de ACES...</td>\n",
       "      <td>blocked</td>\n",
       "    </tr>\n",
       "    <tr>\n",
       "      <th>...</th>\n",
       "      <td>...</td>\n",
       "      <td>...</td>\n",
       "    </tr>\n",
       "    <tr>\n",
       "      <th>1995</th>\n",
       "      <td>Faça login no aplicativo OlympTrad?: 179.240.1...</td>\n",
       "      <td>ok</td>\n",
       "    </tr>\n",
       "    <tr>\n",
       "      <th>1996</th>\n",
       "      <td>Faça login no aplicativo OlympTrad?: 179.240.1...</td>\n",
       "      <td>ok</td>\n",
       "    </tr>\n",
       "    <tr>\n",
       "      <th>1997</th>\n",
       "      <td>bitnuvem.com: Identificamos acesso do IP 179.2...</td>\n",
       "      <td>ok</td>\n",
       "    </tr>\n",
       "    <tr>\n",
       "      <th>1998</th>\n",
       "      <td>enter\u0011in\u0011application: 179.240.169.116, BR, For...</td>\n",
       "      <td>ok</td>\n",
       "    </tr>\n",
       "    <tr>\n",
       "      <th>1999</th>\n",
       "      <td>Faça login no aplicativo OlympTrad?: 179.240.1...</td>\n",
       "      <td>ok</td>\n",
       "    </tr>\n",
       "  </tbody>\n",
       "</table>\n",
       "<p>2000 rows × 2 columns</p>\n",
       "</div>"
      ],
      "text/plain": [
       "                                                    SMS PREDICTED LABEL\n",
       "0     BB informa:Prezado cliente suas senhas de ACES...         blocked\n",
       "1     BB informa:Prezado cliente suas senhas de ACES...         blocked\n",
       "2     BB informa:Prezado cliente suas senhas de ACES...         blocked\n",
       "3     Node Warning: SFRO01H000001.call.br Warning em...              ok\n",
       "4     BB informa:Prezado cliente suas senhas de ACES...         blocked\n",
       "...                                                 ...             ...\n",
       "1995  Faça login no aplicativo OlympTrad?: 179.240.1...              ok\n",
       "1996  Faça login no aplicativo OlympTrad?: 179.240.1...              ok\n",
       "1997  bitnuvem.com: Identificamos acesso do IP 179.2...              ok\n",
       "1998  enter\u0011in\u0011application: 179.240.169.116, BR, For...              ok\n",
       "1999  Faça login no aplicativo OlympTrad?: 179.240.1...              ok\n",
       "\n",
       "[2000 rows x 2 columns]"
      ]
     },
     "execution_count": 38,
     "metadata": {},
     "output_type": "execute_result"
    }
   ],
   "source": [
    "# Printing the SMS for validation and the Predicted Label side by side\n",
    "original_validation_data['PREDICTED LABEL'] = y_pred\n",
    "original_validation_data"
   ]
  },
  {
   "cell_type": "code",
   "execution_count": 39,
   "metadata": {},
   "outputs": [],
   "source": [
    "# Exporting Dataframe with results to excel csv file\n",
    "original_validation_data.to_csv('validation_data.csv', index=False)\n"
   ]
  }
 ],
 "metadata": {
  "kernelspec": {
   "display_name": "Python 3",
   "language": "python",
   "name": "python3"
  },
  "language_info": {
   "codemirror_mode": {
    "name": "ipython",
    "version": 3
   },
   "file_extension": ".py",
   "mimetype": "text/x-python",
   "name": "python",
   "nbconvert_exporter": "python",
   "pygments_lexer": "ipython3",
   "version": "3.8.3"
  }
 },
 "nbformat": 4,
 "nbformat_minor": 4
}
